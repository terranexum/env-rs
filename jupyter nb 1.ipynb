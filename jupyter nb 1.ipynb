{
 "cells": [
  {
   "cell_type": "code",
   "execution_count": 15,
   "metadata": {},
   "outputs": [
    {
     "data": {
      "text/plain": [
       "'%pip install openqaoa\\n%pip install requests\\n%pip install geojson\\n\\n%pip install geopandas\\n\\n%pip install cplex\\n%pip install qiskit\\n%pip install fiona\\n%pip install pyogrio\\n%pip install pyproj\\n%pip install rtree \\n%pip install shapely\\n%pip install geodatasets\\n%pip install geoplot\\n\\n%pip install matplotlib\\n\\n%pip install qiskit[visualization]\\n%pip install folium\\n%pip install libpysal\\n%pip install dwave-ocean-sdk\\n%pip install networkx\\n%pip install scikit-learn\\n%pip install qiskit[optimization]\\n%pip install more-itertools\\n%matplotlib inline\\n\\n\\n\\nrequests\\n'"
      ]
     },
     "execution_count": 15,
     "metadata": {},
     "output_type": "execute_result"
    }
   ],
   "source": [
    "'''%pip install openqaoa\n",
    "%pip install requests\n",
    "%pip install geojson\n",
    "\n",
    "%pip install geopandas\n",
    "\n",
    "%pip install cplex\n",
    "%pip install qiskit\n",
    "%pip install fiona\n",
    "%pip install pyogrio\n",
    "%pip install pyproj\n",
    "%pip install rtree \n",
    "%pip install shapely\n",
    "%pip install geodatasets\n",
    "%pip install geoplot\n",
    "\n",
    "%pip install matplotlib\n",
    "\n",
    "%pip install qiskit[visualization]\n",
    "%pip install folium\n",
    "%pip install libpysal\n",
    "%pip install dwave-ocean-sdk\n",
    "%pip install networkx\n",
    "%pip install scikit-learn\n",
    "%pip install qiskit[optimization]\n",
    "%pip install more-itertools\n",
    "%matplotlib inline\n",
    "\n",
    "\n",
    "\n",
    "requests\n",
    "'''"
   ]
  },
  {
   "cell_type": "code",
   "execution_count": 16,
   "metadata": {},
   "outputs": [
    {
     "name": "stdout",
     "output_type": "stream",
     "text": [
      "Defaulting to user installation because normal site-packages is not writeable\n",
      "Requirement already satisfied: tweepy in /Users/annika/Library/Python/3.9/lib/python/site-packages (4.14.0)\n",
      "Requirement already satisfied: requests-oauthlib<2,>=1.2.0 in /Users/annika/Library/Python/3.9/lib/python/site-packages (from tweepy) (1.3.1)\n",
      "Requirement already satisfied: requests<3,>=2.27.0 in /Users/annika/Library/Python/3.9/lib/python/site-packages (from tweepy) (2.32.3)\n",
      "Requirement already satisfied: oauthlib<4,>=3.2.0 in /Users/annika/Library/Python/3.9/lib/python/site-packages (from tweepy) (3.2.2)\n",
      "Requirement already satisfied: charset-normalizer<4,>=2 in /Users/annika/Library/Python/3.9/lib/python/site-packages (from requests<3,>=2.27.0->tweepy) (3.3.2)\n",
      "Requirement already satisfied: idna<4,>=2.5 in /Users/annika/Library/Python/3.9/lib/python/site-packages (from requests<3,>=2.27.0->tweepy) (3.7)\n",
      "Requirement already satisfied: urllib3<3,>=1.21.1 in /Users/annika/Library/Python/3.9/lib/python/site-packages (from requests<3,>=2.27.0->tweepy) (2.2.1)\n",
      "Requirement already satisfied: certifi>=2017.4.17 in /Users/annika/Library/Python/3.9/lib/python/site-packages (from requests<3,>=2.27.0->tweepy) (2024.6.2)\n",
      "\u001b[33mWARNING: You are using pip version 21.2.4; however, version 24.0 is available.\n",
      "You should consider upgrading via the '/Library/Developer/CommandLineTools/usr/bin/python3 -m pip install --upgrade pip' command.\u001b[0m\n",
      "Note: you may need to restart the kernel to use updated packages.\n"
     ]
    }
   ],
   "source": [
    "'''%pip install pandas\n",
    "%pip install numpy'''\n",
    "%pip install tweepy"
   ]
  },
  {
   "cell_type": "code",
   "execution_count": 17,
   "metadata": {},
   "outputs": [
    {
     "data": {
      "text/plain": [
       "'/Library/Developer/CommandLineTools/usr/bin/python3 -m pip install --upgrade pip'"
      ]
     },
     "execution_count": 17,
     "metadata": {},
     "output_type": "execute_result"
    }
   ],
   "source": [
    "'/Library/Developer/CommandLineTools/usr/bin/python3 -m pip install --upgrade pip'"
   ]
  },
  {
   "cell_type": "code",
   "execution_count": 18,
   "metadata": {},
   "outputs": [
    {
     "name": "stdout",
     "output_type": "stream",
     "text": [
      "Hello RoBerTa\n"
     ]
    }
   ],
   "source": [
    "print(\"Hello RoBerTa\")"
   ]
  },
  {
   "cell_type": "markdown",
   "metadata": {},
   "source": [
    "# Test\n",
    "## I am learning how to use the markdown function. Tabular data is easily organised in this way. See my example below.\n",
    "\n",
    "|Value|Number|\n",
    "|--------|--------|\n",
    "| 3| 6|\n",
    "| 12 | 5 |\n",
    "\n",
    "## To-Do list:\n",
    "### * Import tabular data in xsl file.\n",
    "### * Convert xsl to a usable format.\n",
    "### * Use geopandas to make myself a map."
   ]
  }
 ],
 "metadata": {
  "kernelspec": {
   "display_name": "Python 3",
   "language": "python",
   "name": "python3"
  },
  "language_info": {
   "codemirror_mode": {
    "name": "ipython",
    "version": 3
   },
   "file_extension": ".py",
   "mimetype": "text/x-python",
   "name": "python",
   "nbconvert_exporter": "python",
   "pygments_lexer": "ipython3",
   "version": "3.9.6"
  }
 },
 "nbformat": 4,
 "nbformat_minor": 2
}
